{
 "cells": [
  {
   "cell_type": "code",
   "execution_count": 1,
   "metadata": {},
   "outputs": [
    {
     "name": "stderr",
     "output_type": "stream",
     "text": [
      "┌ Info: CUDAdrv.jl failed to initialize, GPU functionality unavailable (set JULIA_CUDA_SILENT or JULIA_CUDA_VERBOSE to silence or expand this message)\n",
      "└ @ CUDAdrv C:\\Users\\mclau\\.julia\\packages\\CUDAdrv\\b1mvw\\src\\CUDAdrv.jl:67\n"
     ]
    }
   ],
   "source": [
    "using Flux\n",
    "using Test\n",
    "using Statistics\n",
    "using ReinforcementLearning\n",
    "using Plots"
   ]
  },
  {
   "cell_type": "code",
   "execution_count": 2,
   "metadata": {},
   "outputs": [],
   "source": [
    "#parameters\n",
    "L=[NNlib.relu, NNlib.σ, NNlib.celu, NNlib.lisht, identity, NNlib.hardsigmoid, NNlib.hardtanh, NNlib.softplus,\n",
    "   NNlib.swish, NNlib.logcosh];"
   ]
  },
  {
   "cell_type": "code",
   "execution_count": 25,
   "metadata": {},
   "outputs": [
    {
     "name": "stdout",
     "output_type": "stream",
     "text": [
      "\u001b[37m\u001b[1mTest Summary: | \u001b[22m\u001b[39m\u001b[32m\u001b[1mPass  \u001b[22m\u001b[39m\u001b[36m\u001b[1mTotal\u001b[22m\u001b[39m\n",
      "generator     | \u001b[32m   7  \u001b[39m\u001b[36m    7\u001b[39m\n",
      "\u001b[37m\u001b[1mTest Summary: | \u001b[22m\u001b[39m\u001b[32m\u001b[1mPass  \u001b[22m\u001b[39m\u001b[36m\u001b[1mTotal\u001b[22m\u001b[39m\n",
      "weakLearner   | \u001b[32m   9  \u001b[39m\u001b[36m    9\u001b[39m\n",
      "\u001b[37m\u001b[1mTest Summary:             | \u001b[22m\u001b[39m\u001b[32m\u001b[1mPass  \u001b[22m\u001b[39m\u001b[36m\u001b[1mTotal\u001b[22m\u001b[39m\n",
      "adaNetDqnObject&Functions | \u001b[32m  20  \u001b[39m\u001b[36m   20\u001b[39m\n",
      "\u001b[37m\u001b[1mTest Summary: | \u001b[22m\u001b[39m\u001b[32m\u001b[1mPass  \u001b[22m\u001b[39m\u001b[36m\u001b[1mTotal\u001b[22m\u001b[39m\n",
      "copyFunction  | \u001b[32m   2  \u001b[39m\u001b[36m    2\u001b[39m\n",
      "\u001b[37m\u001b[1mTest Summary: | \u001b[22m\u001b[39m\u001b[32m\u001b[1mPass  \u001b[22m\u001b[39m\u001b[36m\u001b[1mTotal\u001b[22m\u001b[39m\n",
      "actFunctions  | \u001b[32m   7  \u001b[39m\u001b[36m    7\u001b[39m\n"
     ]
    },
    {
     "data": {
      "text/plain": [
       "Test.DefaultTestSet(\"actFunctions\", Any[], 7, false)"
      ]
     },
     "execution_count": 25,
     "metadata": {},
     "output_type": "execute_result"
    }
   ],
   "source": [
    "#AdaNet Part\n",
    "@testset \"generator\" begin\n",
    "    subnetwork1=generateSubnetwork(3,2,1,3)\n",
    "    subnetwork2=generateSubnetwork(3,2,3,3)\n",
    "    x=rand(3)\n",
    "    @test length(subnetwork1)==2\n",
    "    @test length(subnetwork2)==4\n",
    "    @test length(subnetwork1[1](x))==3\n",
    "    @test length(subnetwork1[2](x))==2\n",
    "    @test length(subnetwork2[3](x))==3\n",
    "    @test length(subnetwork2[4](x))==2 \n",
    "    @test typeof(subnetwork1[1](x))==Array{Float32,1}\n",
    "end\n",
    "\n",
    "@testset \"weakLearner\" begin\n",
    "    subnetwork1=weakLearner(4,2,1,4,[],200)\n",
    "    subnetwork2=weakLearner(4,2,2,4,[subnetwork1],200)\n",
    "    subnetwork3=weakLearner(4,2,2,4,[subnetwork1,subnetwork2],200)\n",
    "    x=rand(4)\n",
    "    @test length(subnetwork1)==2\n",
    "    @test length(subnetwork1[1](x))==4\n",
    "    @test length(subnetwork1[2](x))==2\n",
    "    @test length(subnetwork2)==3\n",
    "    @test length(subnetwork2[1](x))==4\n",
    "    @test length(subnetwork2[3](x))==2\n",
    "    @test length(subnetwork3)==3\n",
    "    @test length(subnetwork3[1](x))==4\n",
    "    @test length(subnetwork3[3](x))==2\n",
    "    \n",
    "end\n",
    "\n",
    "@testset \"adaNetDqnObject&Functions\" begin\n",
    "    subnetwork=generateSubnetwork(4,2,1,3)\n",
    "    network=[ subnetwork]\n",
    "    envi=CartPoleEnv(;T=Float32, seed=10)\n",
    "    adaNetDqn = AdaNetDqn(0.99, 0.05,64,10000,\n",
    "            2,\n",
    "            4,\n",
    "            1.0,\n",
    "            10,\n",
    "            network,\n",
    "            1)\n",
    "    x = rand(4)\n",
    "    @test typeof(adaNetDqn.model1(x))==Array{Float32,1}\n",
    "    @test length(adaNetDqn.model1(x))==2\n",
    "    @test adaNetDqn.model1(x)==createModel(adaNetDqn.network1)(x)\n",
    "    @test adaNetDqn.epsilon == 1\n",
    "    updateEpsilon!(adaNetDqn)\n",
    "    @test adaNetDqn.epsilon == 1*adaNetDqn.decay\n",
    "    @test adaNetDqn.min == 0.05\n",
    "    @test adaNetDqn.batchSize== 64\n",
    "    @test adaNetDqn.memory == []\n",
    "    @test adaNetDqn.memSize == 10000\n",
    "    @test adaNetDqn.stateSize==4\n",
    "    @test adaNetDqn.actionSize==2\n",
    "    @test adaNetDqn.gamma == 1.0\n",
    "    @test adaNetDqn.network1[1][1](x) == adaNetDqn.network2[1][1](x)\n",
    "    @test adaNetDqn.cUpdate == 10\n",
    "    subnetwork = generateSubnetwork(4,2,2,3)\n",
    "    last_network=adaNetDqn.network1\n",
    "    change!(adaNetDqn,subnetwork)\n",
    "    @test adaNetDqn.network1 == [last_network...,subnetwork]\n",
    "    @test typeof(adaNetDqn.model1(x))==Array{Float32,1}\n",
    "    @test length(adaNetDqn.model1(x))==2\n",
    "    @test adaNetDqn.model1(x)==createModel(adaNetDqn.network1)(x)\n",
    "    @test adaNetDqn.network1[1][1](x) == adaNetDqn.network2[1][1](x)\n",
    "    @test adaNetDqn.network1[2][1](x) == adaNetDqn.network2[2][1](x)\n",
    "    #@test adaNetDqn.ps == Flux.params(subnetwork...)\n",
    "end\n",
    "\n",
    "@testset \"copyFunction\" begin\n",
    "    subnetwork=generateSubnetwork(4,2,1,3)\n",
    "    network=[ subnetwork]\n",
    "    envi=CartPoleEnv(;T=Float32, seed=10)\n",
    "    adaNetDqn = AdaNetDqn(0.99, 0.05,64,10000,\n",
    "            2,\n",
    "            4,\n",
    "            1.0,\n",
    "            10,\n",
    "            network,\n",
    "            1)\n",
    "    x = rand(4)\n",
    "    y=adaNetDqn.model2(x)\n",
    "    subnetwork2=generateSubnetwork(4,2,1,3)\n",
    "    network2=[ subnetwork2]\n",
    "    adaNetDqn.network1=network2\n",
    "    copy!(1, adaNetDqn)\n",
    "    y2=adaNetDqn.model2(x)\n",
    "    copy!(10, adaNetDqn)\n",
    "    y3=adaNetDqn.model2(x)\n",
    "    @test y == y2\n",
    "    @test y != y3\n",
    "    \n",
    "end\n",
    "\n",
    "@testset \"actFunctions\" begin\n",
    "    subnetwork=generateSubnetwork(4,2,1,3)\n",
    "    network=[ subnetwork]\n",
    "    envi=CartPoleEnv(;T=Float32, seed=10)\n",
    "    adaNetDqn = AdaNetDqn(0.99, 0.05,64,10000,\n",
    "            2,\n",
    "            4,\n",
    "            1.0,\n",
    "            10,\n",
    "            network,\n",
    "            1)\n",
    "    obs=observe(envi)\n",
    "    ini_state=deepcopy(get_state(obs))\n",
    "    a=action(adaNetDqn,ini_state)\n",
    "    nextState,reward,done=act(adaNetDqn,envi,a)\n",
    "    obs=observe(envi)\n",
    "    @test a !=0\n",
    "    @test nextState == get_state(obs)\n",
    "    @test reward == 1\n",
    "    @test done == false\n",
    "    @test ini_state != nextState\n",
    "    adaNetDqn.epsilon = 0\n",
    "    a = action(adaNetDqn,nextState)\n",
    "    nextState2,_,__=act(adaNetDqn,envi,a)\n",
    "    @test a == Flux.argmax(adaNetDqn.model1(nextState))\n",
    "    @test nextState!=nextState2\n",
    "    \n",
    "end"
   ]
  },
  {
   "cell_type": "code",
   "execution_count": null,
   "metadata": {},
   "outputs": [],
   "source": []
  },
  {
   "cell_type": "code",
   "execution_count": 15,
   "metadata": {},
   "outputs": [
    {
     "name": "stdout",
     "output_type": "stream",
     "text": [
      "\u001b[37musingModelsWithMultipleStreams: \u001b[39m\u001b[91m\u001b[1mTest Failed\u001b[22m\u001b[39m at \u001b[39m\u001b[1mIn[15]:17\u001b[22m\n",
      "  Expression: (Y[3])[2] == (subnetwork3[2])(x2)\n",
      "   Evaluated: Float32[1.127554, 1.1497988, 0.21469581] == Float32[1.127554, 1.1497985, 0.21469581]\n",
      "Stacktrace:\n",
      " [1] top-level scope at \u001b[1mIn[15]:17\u001b[22m\n",
      " [2] top-level scope at \u001b[1mD:\\buildbot\\worker\\package_win64\\build\\usr\\share\\julia\\stdlib\\v1.3\\Test\\src\\Test.jl:1107\u001b[22m\n",
      " [3] top-level scope at \u001b[1mIn[15]:2\u001b[22m\n",
      "\u001b[37m\u001b[1mTest Summary:                  | \u001b[22m\u001b[39m\u001b[32m\u001b[1mPass  \u001b[22m\u001b[39m\u001b[91m\u001b[1mFail  \u001b[22m\u001b[39m\u001b[36m\u001b[1mTotal\u001b[22m\u001b[39m\n",
      "usingModelsWithMultipleStreams | \u001b[32m   7  \u001b[39m\u001b[91m   1  \u001b[39m\u001b[36m    8\u001b[39m\n"
     ]
    },
    {
     "ename": "TestSetException",
     "evalue": "Some tests did not pass: 7 passed, 1 failed, 0 errored, 0 broken.",
     "output_type": "error",
     "traceback": [
      "Some tests did not pass: 7 passed, 1 failed, 0 errored, 0 broken.",
      "",
      "Stacktrace:",
      " [1] finish(::Test.DefaultTestSet) at D:\\buildbot\\worker\\package_win64\\build\\usr\\share\\julia\\stdlib\\v1.3\\Test\\src\\Test.jl:870",
      " [2] top-level scope at D:\\buildbot\\worker\\package_win64\\build\\usr\\share\\julia\\stdlib\\v1.3\\Test\\src\\Test.jl:1117",
      " [3] top-level scope at In[15]:2"
     ]
    }
   ],
   "source": [
    "\n",
    "@testset \"usingModelsWithMultipleStreams\" begin\n",
    "    subnetwork1=generateSubnetwork(3,2,1,3)\n",
    "    subnetwork2=generateSubnetwork(3,2,2,3)\n",
    "    subnetwork3=generateSubnetwork(3,2,2,3)\n",
    "    x=rand(3)\n",
    "    usenetwork=createModel4Test([subnetwork1,subnetwork2,subnetwork3])\n",
    "    rslt,Y=usenetwork(x)\n",
    "    @test rslt == (Y[1][2]+Y[2][3]+Y[3][3])/3\n",
    "    @test length(Y[1][1])==3\n",
    "    @test Y[1][1]==subnetwork1[1](x)\n",
    "    @test Y[1][2]==subnetwork1[2](subnetwork1[1](x))\n",
    "    @test Y[2][1]==subnetwork2[1](x)\n",
    "    x1=subnetwork1[1](x)+subnetwork2[1](x)\n",
    "    @test Y[2][2]==subnetwork2[2](x1)\n",
    "    @test Y[3][1]==subnetwork3[1](x)\n",
    "    x2=x1+subnetwork3[1](x)\n",
    "    @test Y[3][2]==subnetwork3[2](x2)\n",
    "end"
   ]
  },
  {
   "cell_type": "code",
   "execution_count": 14,
   "metadata": {},
   "outputs": [
    {
     "name": "stdout",
     "output_type": "stream",
     "text": [
      "\u001b[37mremember!: \u001b[39m\u001b[91m\u001b[1mError During Test\u001b[22m\u001b[39m at \u001b[39m\u001b[1mIn[14]:2\u001b[22m\n",
      "  Got exception outside of a @test\n",
      "  UndefVarError: stateSize not defined\n",
      "  Stacktrace:\n",
      "   [1] AdaNetDqn(::Float64, ::Float64, ::Int64, ::Int64, ::CartPoleEnv{Float32,Random.MersenneTwister}, ::Int64, ::Float64, ::Int64, ::Array{Array{Dense{F,Array{Float32,2},Array{Float32,1}} where F,1},1}, ::Int64) at .\\In[7]:37\n",
      "   [2] top-level scope at In[14]:6\n",
      "   [3] top-level scope at D:\\buildbot\\worker\\package_win64\\build\\usr\\share\\julia\\stdlib\\v1.3\\Test\\src\\Test.jl:1107\n",
      "   [4] top-level scope at In[14]:3\n",
      "   [5] eval at .\\boot.jl:330 [inlined]\n",
      "   [6] softscope_include_string(::Module, ::String, ::String) at C:\\Users\\mclau\\.julia\\packages\\SoftGlobalScope\\cSbw5\\src\\SoftGlobalScope.jl:218\n",
      "   [7] execute_request(::ZMQ.Socket, ::IJulia.Msg) at C:\\Users\\mclau\\.julia\\packages\\IJulia\\yLI42\\src\\execute_request.jl:67\n",
      "   [8] #invokelatest#1 at .\\essentials.jl:709 [inlined]\n",
      "   [9] invokelatest at .\\essentials.jl:708 [inlined]\n",
      "   [10] eventloop(::ZMQ.Socket) at C:\\Users\\mclau\\.julia\\packages\\IJulia\\yLI42\\src\\eventloop.jl:8\n",
      "   [11] (::IJulia.var\"#15#18\")() at .\\task.jl:333\n",
      "  \n",
      "\u001b[37m\u001b[1mTest Summary: | \u001b[22m\u001b[39m\u001b[91m\u001b[1mError  \u001b[22m\u001b[39m\u001b[36m\u001b[1mTotal\u001b[22m\u001b[39m\n",
      "remember!     | \u001b[91m    1  \u001b[39m\u001b[36m    1\u001b[39m\n"
     ]
    },
    {
     "ename": "TestSetException",
     "evalue": "Some tests did not pass: 0 passed, 0 failed, 1 errored, 0 broken.",
     "output_type": "error",
     "traceback": [
      "Some tests did not pass: 0 passed, 0 failed, 1 errored, 0 broken.",
      "",
      "Stacktrace:",
      " [1] finish(::Test.DefaultTestSet) at D:\\buildbot\\worker\\package_win64\\build\\usr\\share\\julia\\stdlib\\v1.3\\Test\\src\\Test.jl:870",
      " [2] top-level scope at D:\\buildbot\\worker\\package_win64\\build\\usr\\share\\julia\\stdlib\\v1.3\\Test\\src\\Test.jl:1117",
      " [3] top-level scope at In[14]:3"
     ]
    }
   ],
   "source": [
    "#Not working\n",
    "@testset \"remember!\" begin\n",
    "    subnetwork=generateSubnetwork(4,2,1,3)\n",
    "    network=[ subnetwork]\n",
    "    envi=CartPoleEnv(;T=Float32, seed=20)\n",
    "    adaNetDqn = AdaNetDqn(0.99, 0.05,64,10000,\n",
    "            envi,\n",
    "            2,\n",
    "            1.0,\n",
    "            10,\n",
    "            network,\n",
    "            1)\n",
    "    obs=observe(envi)\n",
    "    ini_state=deep_copy(get_state(obs))\n",
    "    action(adaNetDqn)\n",
    "    act(adaNetDqn,envi)\n",
    "    obs=observe(envi)\n",
    "    remember!(adaNetDqn)\n",
    "    adaNetDqn.state=get_state(envi)\n",
    "    @test length(adaNetDqn.memory)==1\n",
    "    println(adaNetDqn.memory[end])\n",
    "    action(adaNetDqn)\n",
    "    act(adaNetDqn,envi)\n",
    "    remember!(adaNetDqn)\n",
    "    adaNetDqn.state=get_state(envi)\n",
    "    @test length(adaNetDqn.memory)==2\n",
    "    println(adaNetDqn.memory[end])\n",
    "    \n",
    "end"
   ]
  },
  {
   "cell_type": "code",
   "execution_count": 3,
   "metadata": {},
   "outputs": [
    {
     "data": {
      "text/plain": [
       "generateSubnetwork (generic function with 1 method)"
      ]
     },
     "execution_count": 3,
     "metadata": {},
     "output_type": "execute_result"
    }
   ],
   "source": [
    "function generateSubnetwork(Input::Int64,\n",
    "                               Output::Int64,\n",
    "                               lt::Int64,\n",
    "                               B::Int64)\n",
    "    if lt==1\n",
    "        return [Dense(Input,B,L[rand(1:10)]),Dense(B,Output,σ)]\n",
    "    else\n",
    "        new_subnetwork=[Dense(Input,B,L[rand(1:10)])]\n",
    "        for i in 1:lt-1\n",
    "            new_subnetwork=[new_subnetwork...,Dense(B,B,L[rand(1:10)])]\n",
    "        end\n",
    "        return [new_subnetwork...,Dense(B,Output,σ)]\n",
    "    end\n",
    "end"
   ]
  },
  {
   "cell_type": "code",
   "execution_count": 4,
   "metadata": {},
   "outputs": [
    {
     "data": {
      "text/plain": [
       "createModel (generic function with 1 method)"
      ]
     },
     "execution_count": 4,
     "metadata": {},
     "output_type": "execute_result"
    }
   ],
   "source": [
    "function createModel(network)\n",
    "    function applyNetworks(x)\n",
    "        N=length(network)\n",
    "        Ys=[]\n",
    "        Ys2=[]\n",
    "        for i in 1:N\n",
    "            current_subnetwork=network[i]\n",
    "            current_lt=length(current_subnetwork)-1\n",
    "            y=current_subnetwork[1](x)\n",
    "            Y=[deepcopy(y)] \n",
    "            for j in 2:current_lt\n",
    "                for k in 1:(i-1)\n",
    "                    if length(Ys[k])>=j #>=j\n",
    "                        y.=y.+Ys[k][j-1]\n",
    "                    end\n",
    "                end\n",
    "                y=current_subnetwork[j](y)\n",
    "                Y=[Y...,deepcopy(y)]\n",
    "            end\n",
    "            y=current_subnetwork[current_lt+1](y)\n",
    "            Y=[Y...,deepcopy(y)]\n",
    "            Ys=[Ys...,Y]\n",
    "        end\n",
    "        Ys2=Ys\n",
    "        Ys=[Ys[i][end] for i in 1:length(Ys)]\n",
    "        return sum(Ys)/N\n",
    "    end\n",
    "    return applyNetworks\n",
    "end"
   ]
  },
  {
   "cell_type": "code",
   "execution_count": 5,
   "metadata": {},
   "outputs": [
    {
     "data": {
      "text/plain": [
       "createModel4Test (generic function with 1 method)"
      ]
     },
     "execution_count": 5,
     "metadata": {},
     "output_type": "execute_result"
    }
   ],
   "source": [
    "function createModel4Test(network)\n",
    "    function applyNetworks(x)\n",
    "        N=length(network)\n",
    "        Ys=[]\n",
    "        Ys2=[]\n",
    "        for i in 1:N\n",
    "            current_subnetwork=network[i]\n",
    "            current_lt=length(current_subnetwork)-1\n",
    "            y=current_subnetwork[1](x)\n",
    "            Y=[deepcopy(y)] \n",
    "            for j in 2:current_lt\n",
    "                for k in 1:(i-1)\n",
    "                    if length(Ys[k])>=j #>=j\n",
    "                        y.=y.+Ys[k][j-1]\n",
    "                    end\n",
    "                end\n",
    "                y=current_subnetwork[j](y)\n",
    "                Y=[Y...,deepcopy(y)]\n",
    "            end\n",
    "            y=current_subnetwork[current_lt+1](y)\n",
    "            Y=[Y...,deepcopy(y)]\n",
    "            Ys=[Ys...,Y]\n",
    "        end\n",
    "        Ys2=Ys\n",
    "        Ys=[Ys[i][end] for i in 1:length(Ys)]\n",
    "        return sum(Ys)/N,Ys2\n",
    "    end\n",
    "    return applyNetworks\n",
    "end"
   ]
  },
  {
   "cell_type": "code",
   "execution_count": 6,
   "metadata": {},
   "outputs": [
    {
     "data": {
      "text/plain": [
       "weakLearner (generic function with 1 method)"
      ]
     },
     "execution_count": 6,
     "metadata": {},
     "output_type": "execute_result"
    }
   ],
   "source": [
    "function weakTest(user,seeds::Int64)\n",
    "    s=0\n",
    "    for i in 1:seeds\n",
    "        env=CartPoleEnv(;T=Float32, seed=i)\n",
    "        obs=observe(env)\n",
    "        current_state=get_state(obs)\n",
    "        current_done=false\n",
    "        while !current_done\n",
    "            current_action=argmax(user(current_state))\n",
    "            env(current_action)\n",
    "            obs=observe(env)\n",
    "            current_next_state,current_reward,current_done=get_state(obs),get_reward(obs),get_terminal(obs)\n",
    "            s+=current_reward\n",
    "            current_state=current_next_state\n",
    "        end  \n",
    "    end\n",
    "    return s/seeds\n",
    "end\n",
    "\n",
    "function weakLearner(Input::Int64,\n",
    "                     Output::Int64,\n",
    "                     lt::Int64,\n",
    "                     B::Int64,\n",
    "                     Network,\n",
    "                     seeds::Int64)\n",
    "    best_value=-Inf\n",
    "    selected_subnetwork=[]\n",
    "    for i in 1:10\n",
    "        applicant_subnetwork=generateSubnetwork(Input,Output,lt,B)\n",
    "        current_user=createModel([Network...,applicant_subnetwork])\n",
    "        current_value=weakTest(current_user,seeds)\n",
    "        if current_value>best_value\n",
    "            best_value=current_value\n",
    "            selected_subnetwork=applicant_subnetwork\n",
    "        end\n",
    "    end\n",
    "    return selected_subnetwork\n",
    "    \n",
    "end"
   ]
  },
  {
   "cell_type": "code",
   "execution_count": 18,
   "metadata": {},
   "outputs": [],
   "source": [
    "mutable struct AdaNetDqn\n",
    "    train::Bool\n",
    "    change::Bool\n",
    "    epsilon::Float64\n",
    "    decay::Float64\n",
    "    min::Float64\n",
    "    batchSize::Int64\n",
    "    memory\n",
    "    memSize::Int64\n",
    "    stateSize::Int64\n",
    "    actionSize::Int64\n",
    "    gamma::Float64\n",
    "    cUpdate::Int64\n",
    "    network1\n",
    "    network2\n",
    "    loss\n",
    "    model1\n",
    "    model2\n",
    "    ps\n",
    "    opt\n",
    "    lt\n",
    "    \n",
    "    # attention network1 = [network]\n",
    "    function AdaNetDqn(ϵ_DECAY::Float64, ϵ_MIN::Float64,BATCH_SIZE::Int64,MEM_SIZE::Int64,\n",
    "            actionSize,\n",
    "            stateSize,\n",
    "            γ::Float64,\n",
    "            C_UPDATE::Int64,\n",
    "            network1,\n",
    "            lt::Int64)\n",
    "        network2=deepcopy(network1)\n",
    "        model1=createModel(network1)\n",
    "        model2=createModel(network2)\n",
    "        loss(x,y)=Flux.mse(model1(x),y)\n",
    "        #loss(x,y)=Flux.mse(x,y)\n",
    "        ps=Flux.params(network1[end]...)\n",
    "        new(true, true, 1.0f0, ϵ_DECAY, ϵ_MIN, BATCH_SIZE, [], MEM_SIZE, stateSize, actionSize,\n",
    "            \n",
    "            γ, C_UPDATE, network1, network2, loss, model1, model2, ps,  ADAM(0.0001, (0.9, 0.999)),lt)\n",
    "    end\n",
    "    \n",
    "end"
   ]
  },
  {
   "cell_type": "code",
   "execution_count": 8,
   "metadata": {},
   "outputs": [
    {
     "data": {
      "text/plain": [
       "change! (generic function with 1 method)"
      ]
     },
     "execution_count": 8,
     "metadata": {},
     "output_type": "execute_result"
    }
   ],
   "source": [
    "function updateEpsilon!(adaNetDqn::AdaNetDqn)\n",
    "    x = adaNetDqn.epsilon*adaNetDqn.decay\n",
    "    if x < adaNetDqn.min && adaNetDqn.change\n",
    "        adaNetDqn.epsilon=adaNetDqn.min\n",
    "        adaNetDqn.change=false \n",
    "    elseif adaNetDqn.change\n",
    "        adaNetDqn.epsilon = x \n",
    "    end\n",
    "end\n",
    "\n",
    "function change!(adaNetDqn::AdaNetDqn,network)\n",
    "    adaNetDqn.network1=[adaNetDqn.network1...,network]\n",
    "    adaNetDqn.network2=deepcopy(adaNetDqn.network1)\n",
    "    adaNetDqn.model1=createModel(adaNetDqn.network1)\n",
    "    adaNetDqn.model2=createModel(adaNetDqn.network2)\n",
    "    adaNetDqn.ps=Flux.params(adaNetDqn.network1[end]...)\n",
    "    adaNetDqn.lt=length(network)-1\n",
    "    current_loss(x,y)=Flux.mse(adaNetDqn.model1(x),y)\n",
    "    adaNetDqn.loss=current_loss\n",
    "end"
   ]
  },
  {
   "cell_type": "code",
   "execution_count": 9,
   "metadata": {},
   "outputs": [
    {
     "data": {
      "text/plain": [
       "copy! (generic function with 1 method)"
      ]
     },
     "execution_count": 9,
     "metadata": {},
     "output_type": "execute_result"
    }
   ],
   "source": [
    "function copy!(iter::Int64, adaNetDqn::AdaNetDqn)\n",
    "    if iter%adaNetDqn.cUpdate==0\n",
    "        adaNetDqn.network2=deepcopy(adaNetDqn.network1)\n",
    "        adaNetDqn.model2=createModel(adaNetDqn.network2)\n",
    "    end\n",
    "end"
   ]
  },
  {
   "cell_type": "code",
   "execution_count": 23,
   "metadata": {},
   "outputs": [
    {
     "data": {
      "text/plain": [
       "act (generic function with 1 method)"
      ]
     },
     "execution_count": 23,
     "metadata": {},
     "output_type": "execute_result"
    }
   ],
   "source": [
    "function action(adaNetDqn::AdaNetDqn,state)\n",
    "    if rand() <= adaNetDqn.epsilon && adaNetDqn.train  \n",
    "        a = rand(1:adaNetDqn.actionSize)\n",
    "    else\n",
    "        a=Flux.argmax(adaNetDqn.model1(state))\n",
    "    end\n",
    "    return a\n",
    "end\n",
    "\n",
    "function act(adaNetDqn::AdaNetDqn,env,action)\n",
    "    env(action)\n",
    "    obs=observe(env)\n",
    "    deepcopy(get_state(obs)),get_reward(obs),get_terminal(obs)\n",
    "end\n",
    "    "
   ]
  },
  {
   "cell_type": "code",
   "execution_count": 11,
   "metadata": {},
   "outputs": [
    {
     "data": {
      "text/plain": [
       "remember! (generic function with 1 method)"
      ]
     },
     "execution_count": 11,
     "metadata": {},
     "output_type": "execute_result"
    }
   ],
   "source": [
    "function remember!(adaNetDqn::AdaNetDqn)\n",
    "  if length(adaNetDqn.memory) == adaNetDqn.memSize\n",
    "    deleteat!(adaNetDqn.memory, 1)\n",
    "  end\n",
    "  push!(adaNetDqn.memory, (state, action, reward, nextState, done))\n",
    "end"
   ]
  },
  {
   "cell_type": "code",
   "execution_count": null,
   "metadata": {},
   "outputs": [],
   "source": [
    "subnetwork=generateSubnetwork(4,2,1,3)\n",
    "    network=[ subnetwork]\n",
    "    envi=CartPoleEnv(;T=Float32, seed=10)\n",
    "    adaNetDqn = AdaNetDqn(0.99, 0.05,64,10000,\n",
    "            envi,\n",
    "            2,\n",
    "            1.0,\n",
    "            10,\n",
    "            network,\n",
    "            1)"
   ]
  },
  {
   "cell_type": "code",
   "execution_count": null,
   "metadata": {},
   "outputs": [],
   "source": [
    "envi=CartPoleEnv(;T=Float32, seed=20)\n",
    "obs=observe(envi)"
   ]
  },
  {
   "cell_type": "code",
   "execution_count": null,
   "metadata": {},
   "outputs": [],
   "source": [
    "envi(1)"
   ]
  },
  {
   "cell_type": "code",
   "execution_count": null,
   "metadata": {},
   "outputs": [],
   "source": [
    "get_state(obs)"
   ]
  },
  {
   "cell_type": "code",
   "execution_count": null,
   "metadata": {},
   "outputs": [],
   "source": [
    "envi(1)"
   ]
  },
  {
   "cell_type": "code",
   "execution_count": null,
   "metadata": {},
   "outputs": [],
   "source": [
    "get_state(obs)"
   ]
  },
  {
   "cell_type": "code",
   "execution_count": null,
   "metadata": {},
   "outputs": [],
   "source": []
  }
 ],
 "metadata": {
  "kernelspec": {
   "display_name": "Julia 1.3.1",
   "language": "julia",
   "name": "julia-1.3"
  },
  "language_info": {
   "file_extension": ".jl",
   "mimetype": "application/julia",
   "name": "julia",
   "version": "1.3.1"
  }
 },
 "nbformat": 4,
 "nbformat_minor": 2
}
