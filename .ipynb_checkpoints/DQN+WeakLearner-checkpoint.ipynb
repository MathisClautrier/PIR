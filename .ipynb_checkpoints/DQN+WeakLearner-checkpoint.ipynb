{
 "cells": [
  {
   "cell_type": "code",
   "execution_count": 22,
   "metadata": {},
   "outputs": [],
   "source": [
    "using ReinforcementLearning\n",
    "using Flux\n",
    "using Statistics\n",
    "using Plots"
   ]
  },
  {
   "cell_type": "code",
   "execution_count": 23,
   "metadata": {},
   "outputs": [
    {
     "data": {
      "text/plain": [
       "3"
      ]
     },
     "execution_count": 23,
     "metadata": {},
     "output_type": "execute_result"
    }
   ],
   "source": [
    "L=[NNlib.relu, NNlib.σ, NNlib.celu, NNlib.lisht, identity, NNlib.hardsigmoid, NNlib.hardtanh, NNlib.softplus,\n",
    "   NNlib.swish, NNlib.logcosh];\n",
    "B=3"
   ]
  },
  {
   "cell_type": "code",
   "execution_count": 24,
   "metadata": {},
   "outputs": [
    {
     "data": {
      "text/plain": [
       "(reward = 1.0f0, terminal = false, state = Float32[0.027436066, 0.04111881, -0.026205778, 0.036788408])"
      ]
     },
     "execution_count": 24,
     "metadata": {},
     "output_type": "execute_result"
    }
   ],
   "source": [
    "Env = CartPoleEnv(;T=Float32, seed=0)\n",
    "Obs=observe(Env)"
   ]
  },
  {
   "cell_type": "code",
   "execution_count": 35,
   "metadata": {},
   "outputs": [
    {
     "data": {
      "text/plain": [
       "(Dense{F,Array{Float32,2},Array{Float32,1}} where F[Dense(4, 3, celu), Dense(3, 2, σ)], 8.88f0)"
      ]
     },
     "execution_count": 35,
     "metadata": {},
     "output_type": "execute_result"
    }
   ],
   "source": [
    "subnetwork1,score=weakLearner(4,2,1,1,[],50)"
   ]
  },
  {
   "cell_type": "code",
   "execution_count": 42,
   "metadata": {},
   "outputs": [
    {
     "data": {
      "text/plain": [
       "(Dense{F,Array{Float32,2},Array{Float32,1}} where F[Dense(4, 3, σ), Dense(3, 3, relu), Dense(3, 2, σ)], 49.26f0)"
      ]
     },
     "execution_count": 42,
     "metadata": {},
     "output_type": "execute_result"
    }
   ],
   "source": [
    "subnetwork2,score=weakLearner(4,2,2,2,test.models1,50)"
   ]
  },
  {
   "cell_type": "code",
   "execution_count": 36,
   "metadata": {},
   "outputs": [
    {
     "data": {
      "text/plain": [
       "DQN(true, true, 1.0, 0.99, 0.05, 64, Any[], 100000, 4, 2, 1.0, 10, Array{Dense{F,Array{Float32,2},Array{Float32,1}} where F,1}[[Dense(4, 3, celu), Dense(3, 2, σ)]], Array{Dense{F,Array{Float32,2},Array{Float32,1}} where F,1}[[Dense(4, 3, celu), Dense(3, 2, σ)]], var\"#Model#5\"{Array{Dense{F,Array{Float32,2},Array{Float32,1}} where F,1},Int64,Int64}[var\"#Model#5\"{Array{Dense{F,Array{Float32,2},Array{Float32,1}} where F,1},Int64,Int64}(Dense{F,Array{Float32,2},Array{Float32,1}} where F[Dense(4, 3, celu), Dense(3, 2, σ)], 1, 1)], var\"#Model#5\"{Array{Dense{F,Array{Float32,2},Array{Float32,1}} where F,1},Int64,Int64}[var\"#Model#5\"{Array{Dense{F,Array{Float32,2},Array{Float32,1}} where F,1},Int64,Int64}(Dense{F,Array{Float32,2},Array{Float32,1}} where F[Dense(4, 3, celu), Dense(3, 2, σ)], 1, 1)], var\"#loss#6\"{Array{var\"#Model#5\"{Array{Dense{F,Array{Float32,2},Array{Float32,1}} where F,1},Int64,Int64},1}}(var\"#Model#5\"{Array{Dense{F,Array{Float32,2},Array{Float32,1}} where F,1},Int64,Int64}[var\"#Model#5\"{Array{Dense{F,Array{Float32,2},Array{Float32,1}} where F,1},Int64,Int64}(Dense{F,Array{Float32,2},Array{Float32,1}} where F[Dense(4, 3, celu), Dense(3, 2, σ)], 1, 1)]), Params([Float32[0.5874647 0.4121998 0.34133533 0.059155926; -0.40427616 -0.3951588 -0.6107083 0.5497856; -0.039719306 0.8137965 0.92187184 -0.05884381], Float32[0.0, 0.0, 0.0], Float32[-0.9414536 1.0485998 -0.32848176; 0.045976892 0.7420876 1.0025554], Float32[0.0, 0.0]]), ADAM(0.0001, (0.9, 0.999), IdDict{Any,Any}()), 1, 1)"
      ]
     },
     "execution_count": 36,
     "metadata": {},
     "output_type": "execute_result"
    }
   ],
   "source": [
    "test=DQN(0.99,0.05,64,100000,4,2,1.0,10,[subnetwork1],1,1)"
   ]
  },
  {
   "cell_type": "code",
   "execution_count": 37,
   "metadata": {},
   "outputs": [
    {
     "data": {
      "text/plain": [
       "Params([Float32[0.5874647 0.4121998 0.34133533 0.059155926; -0.40427616 -0.3951588 -0.6107083 0.5497856; -0.039719306 0.8137965 0.92187184 -0.05884381], Float32[0.0, 0.0, 0.0], Float32[-0.9414536 1.0485998 -0.32848176; 0.045976892 0.7420876 1.0025554], Float32[0.0, 0.0]])"
      ]
     },
     "execution_count": 37,
     "metadata": {},
     "output_type": "execute_result"
    }
   ],
   "source": [
    "ps_ini=deepcopy(test.ps)"
   ]
  },
  {
   "cell_type": "code",
   "execution_count": 47,
   "metadata": {},
   "outputs": [
    {
     "name": "stdout",
     "output_type": "stream",
     "text": [
      "100 Last 100 episodes mean score: 49.52\n",
      "200 Last 100 episodes mean score: 49.81\n"
     ]
    },
    {
     "data": {
      "text/plain": [
       "49.32512315270936"
      ]
     },
     "execution_count": 47,
     "metadata": {},
     "output_type": "execute_result"
    }
   ],
   "source": [
    "main_DQN(test,Env)"
   ]
  },
  {
   "cell_type": "code",
   "execution_count": null,
   "metadata": {},
   "outputs": [],
   "source": [
    "ps_ini==test.ps"
   ]
  },
  {
   "cell_type": "code",
   "execution_count": null,
   "metadata": {},
   "outputs": [],
   "source": [
    "ps_next=deepcopy(test.ps)"
   ]
  },
  {
   "cell_type": "code",
   "execution_count": 49,
   "metadata": {},
   "outputs": [
    {
     "data": {
      "text/plain": [
       "2-element Array{var\"#Model#5\"{Array{Dense{F,Array{Float32,2},Array{Float32,1}} where F,1},Int64,Int64},1}:\n",
       " var\"#Model#5\"{Array{Dense{F,Array{Float32,2},Array{Float32,1}} where F,1},Int64,Int64}(Dense{F,Array{Float32,2},Array{Float32,1}} where F[Dense(4, 3, celu), Dense(3, 2, σ)], 1, 1)                \n",
       " var\"#Model#5\"{Array{Dense{F,Array{Float32,2},Array{Float32,1}} where F,1},Int64,Int64}(Dense{F,Array{Float32,2},Array{Float32,1}} where F[Dense(4, 3, σ), Dense(3, 3, relu), Dense(3, 2, σ)], 2, 2)"
      ]
     },
     "execution_count": 49,
     "metadata": {},
     "output_type": "execute_result"
    }
   ],
   "source": [
    "test.models1"
   ]
  },
  {
   "cell_type": "code",
   "execution_count": 43,
   "metadata": {},
   "outputs": [
    {
     "data": {
      "text/plain": [
       "2"
      ]
     },
     "execution_count": 43,
     "metadata": {},
     "output_type": "execute_result"
    }
   ],
   "source": [
    "change(test,[subnetwork1,subnetwork2],2,2)"
   ]
  },
  {
   "cell_type": "code",
   "execution_count": null,
   "metadata": {},
   "outputs": [],
   "source": [
    "test.models1"
   ]
  },
  {
   "cell_type": "code",
   "execution_count": 6,
   "metadata": {},
   "outputs": [
    {
     "data": {
      "text/plain": [
       "Generate_subnetwork_t (generic function with 1 method)"
      ]
     },
     "execution_count": 6,
     "metadata": {},
     "output_type": "execute_result"
    }
   ],
   "source": [
    "#OK\n",
    "\n",
    "#Utilise B et L\n",
    "function Generate_subnetwork_t(Input::Int64,\n",
    "                               Output::Int64,\n",
    "                               lt::Int64)\n",
    "    if lt==1\n",
    "        return [Dense(Input,B,L[rand(1:10)]),Dense(B,Output,σ)]\n",
    "    else\n",
    "        new_subnetwork=[Dense(Input,B,L[rand(1:10)])]\n",
    "        for i in 1:lt-1\n",
    "            new_subnetwork=[new_subnetwork...,Dense(B,B,L[rand(1:10)])]\n",
    "        end\n",
    "        return [new_subnetwork...,Dense(B,Output,σ)]\n",
    "    end\n",
    "end"
   ]
  },
  {
   "cell_type": "code",
   "execution_count": 7,
   "metadata": {},
   "outputs": [
    {
     "data": {
      "text/plain": [
       "All_Models (generic function with 1 method)"
      ]
     },
     "execution_count": 7,
     "metadata": {},
     "output_type": "execute_result"
    }
   ],
   "source": [
    "#Ok pour tout environnement de RL a priori\n",
    "\n",
    "#Utilise aucun parametre extérieur\n",
    "function All_Models(Models,\n",
    "                    x)\n",
    "    l=length(Models)\n",
    "    Y=[Models[1]([],x)]\n",
    "    if l!=1\n",
    "        for i in 2:l\n",
    "                Y=[Y...,Models[i](Y,x)]\n",
    "        end\n",
    "    end\n",
    "    Y=[Y[i][end] for i in 1:length(Y)]\n",
    "    return sum(Y)/length(Models)\n",
    "end"
   ]
  },
  {
   "cell_type": "code",
   "execution_count": 8,
   "metadata": {},
   "outputs": [
    {
     "data": {
      "text/plain": [
       "Model_t (generic function with 1 method)"
      ]
     },
     "execution_count": 8,
     "metadata": {},
     "output_type": "execute_result"
    }
   ],
   "source": [
    "#Fonctionne bien sur cet environnement\n",
    "\n",
    "#Utilise aucun parametre extérieur\n",
    "function Model_t(Subnetwork_t,\n",
    "                 t::Int64,\n",
    "                 lt::Int64)\n",
    "    function Model(Y_t_minus_1,\n",
    "                       x)\n",
    "        y=Subnetwork_t[1](x)\n",
    "        Y=[y] \n",
    "        for j in 2:lt\n",
    "            for i in 1:t-1\n",
    "                if length(Y_t_minus_1[i])>=j\n",
    "                    y.=y.+Y_t_minus_1[i][j-1]\n",
    "                end\n",
    "            end\n",
    "            y=Subnetwork_t[j](y)\n",
    "            Y=[Y...,y]\n",
    "        end\n",
    "        y=Subnetwork_t[lt+1](y)\n",
    "        Y=[Y...,y]\n",
    "        return Y\n",
    "    end\n",
    "    return Model\n",
    "end\n"
   ]
  },
  {
   "cell_type": "code",
   "execution_count": 9,
   "metadata": {},
   "outputs": [
    {
     "data": {
      "text/plain": [
       "action (generic function with 1 method)"
      ]
     },
     "execution_count": 9,
     "metadata": {},
     "output_type": "execute_result"
    }
   ],
   "source": [
    "function action(Models,state)\n",
    "    \n",
    "  act_values = All_Models(Models,state)\n",
    "\n",
    "  return Flux.argmax(act_values)\n",
    "    \n",
    "end"
   ]
  },
  {
   "cell_type": "code",
   "execution_count": 10,
   "metadata": {},
   "outputs": [
    {
     "data": {
      "text/plain": [
       "weakTest (generic function with 1 method)"
      ]
     },
     "execution_count": 10,
     "metadata": {},
     "output_type": "execute_result"
    }
   ],
   "source": [
    "#OK\n",
    "\n",
    "#Il faut changer cette fonction si on change d'environnement(petit changement)\n",
    "function weakTest(Models,seeds::Int64)\n",
    "    s=0\n",
    "    for i in 1:seeds\n",
    "        env=CartPoleEnv(;T=Float32, seed=i)\n",
    "        obs=observe(env)\n",
    "        current_state=get_state(obs)\n",
    "        current_done=false\n",
    "        while !current_done\n",
    "            current_action=action(Models,current_state)\n",
    "            env(current_action)\n",
    "            obs=observe(env)\n",
    "            current_next_state,current_reward,current_done=get_state(obs),get_reward(obs),get_terminal(obs)\n",
    "            s+=current_reward\n",
    "            current_state=current_next_state\n",
    "        end  \n",
    "    end\n",
    "    return s/seeds\n",
    "end"
   ]
  },
  {
   "cell_type": "code",
   "execution_count": 39,
   "metadata": {},
   "outputs": [
    {
     "data": {
      "text/plain": [
       "weakLearner (generic function with 1 method)"
      ]
     },
     "execution_count": 39,
     "metadata": {},
     "output_type": "execute_result"
    }
   ],
   "source": [
    "#OK\n",
    "\n",
    "#Nombre de candidats à changer à la main pour l'instant\n",
    "function weakLearner(Input::Int64,\n",
    "                     Output::Int64,\n",
    "                     lt::Int64,\n",
    "                     t::Int64,\n",
    "                     Models,\n",
    "                     seeds::Int64)\n",
    "    best_value=-Inf\n",
    "    selected_subnetwork=[]\n",
    "    for i in 1:10\n",
    "        applicant_subnetwork=Generate_subnetwork_t(Input,Output,lt)\n",
    "        current_models=[Models...,Model_t(applicant_subnetwork,t,lt)]\n",
    "        current_value=weakTest(current_models,seeds)\n",
    "        if current_value>best_value\n",
    "            best_value=current_value\n",
    "            selected_subnetwork=applicant_subnetwork\n",
    "        end\n",
    "    end\n",
    "    return selected_subnetwork,best_value\n",
    "    \n",
    "end"
   ]
  },
  {
   "cell_type": "code",
   "execution_count": 12,
   "metadata": {},
   "outputs": [],
   "source": [
    "mutable struct DQN\n",
    "    TRAIN::Bool\n",
    "    CHANGE::Bool\n",
    "    ϵ::Float64\n",
    "    ϵ_DECAY::Float64\n",
    "    ϵ_MIN::Float64\n",
    "    BATCH_SIZE::Int64\n",
    "    MEMORY\n",
    "    MEM_SIZE::Int64\n",
    "    STATE_SIZE::Int64\n",
    "    ACTION_SIZE::Int64\n",
    "    γ::Float64\n",
    "    C_UPDATE::Int64\n",
    "    network1\n",
    "    network2\n",
    "    models1\n",
    "    models2\n",
    "    loss\n",
    "    ps\n",
    "    opt\n",
    "    t\n",
    "    lt\n",
    "    \n",
    "    # attention network1 = [network]\n",
    "    function DQN(ϵ_DECAY::Float64, ϵ_MIN::Float64,BATCH_SIZE::Int64,MEM_SIZE::Int64,STATE_SIZE::Int64,\n",
    "            \n",
    "                 ACTION_SIZE::Int64,γ::Float64,C_UPDATE::Int64,network1,t::Int64,lt::Int64)\n",
    "        network2=deepcopy(network1)\n",
    "        models1=[Model_t(network1[end],t,lt)]\n",
    "        models2=[Model_t(network2[end],t,lt)]\n",
    "        loss(x,y)=Flux.mse(All_Models(models1,x),y)\n",
    "        #loss(x,y)=Flux.mse(x,y)\n",
    "        ps=Flux.params(network1[end]...)\n",
    "        \n",
    "        new(true, true, 1.0f0, ϵ_DECAY, ϵ_MIN, BATCH_SIZE, [], MEM_SIZE, STATE_SIZE, ACTION_SIZE,γ,C_UPDATE,network1,\n",
    "            \n",
    "            network2, models1,models2,loss, ps, ADAM(0.0001, (0.9, 0.999)),t,lt)\n",
    "    end\n",
    "    \n",
    "end"
   ]
  },
  {
   "cell_type": "code",
   "execution_count": 13,
   "metadata": {},
   "outputs": [
    {
     "data": {
      "text/plain": [
       "copy! (generic function with 1 method)"
      ]
     },
     "execution_count": 13,
     "metadata": {},
     "output_type": "execute_result"
    }
   ],
   "source": [
    "function copy!(iter::Int64, dqn::DQN)\n",
    "    if iter%dqn.C_UPDATE==0\n",
    "        dqn.network2=deepcopy(dqn.network1)\n",
    "        if length(dqn.models2)>1\n",
    "            dqn.models2=[dqn.models2[1:end-1]...,Model_t(dqn.network2[end],dqn.t,dqn.lt)]\n",
    "        else\n",
    "            dqn.models2=[Model_t(dqn.network2[end],dqn.t,dqn.lt)]\n",
    "        end\n",
    "    end\n",
    "end"
   ]
  },
  {
   "cell_type": "code",
   "execution_count": 14,
   "metadata": {},
   "outputs": [
    {
     "data": {
      "text/plain": [
       "change (generic function with 1 method)"
      ]
     },
     "execution_count": 14,
     "metadata": {},
     "output_type": "execute_result"
    }
   ],
   "source": [
    "function change(dqn::DQN,network,t,lt)\n",
    "    dqn.network1=network\n",
    "    dqn.network2=deepcopy(dqn.network1)\n",
    "    dqn.models1=[dqn.models1...,Model_t(dqn.network1[end],t,lt)]\n",
    "    dqn.models2=[dqn.models2...,Model_t(dqn.network2[end],t,lt)]\n",
    "    current_loss(x,y)=Flux.mse(All_Models(dqn.models1,x),y)\n",
    "    dqn.loss=current_loss\n",
    "    dqn.ps=Flux.params(dqn.network1[end]...)\n",
    "    dqn.t=t\n",
    "    dqn.lt=lt\n",
    "end"
   ]
  },
  {
   "cell_type": "code",
   "execution_count": 15,
   "metadata": {},
   "outputs": [
    {
     "data": {
      "text/plain": [
       "action (generic function with 2 methods)"
      ]
     },
     "execution_count": 15,
     "metadata": {},
     "output_type": "execute_result"
    }
   ],
   "source": [
    "function action(dqn::DQN,state::Array{Float32,1})\n",
    "  if rand() <= dqn.ϵ && dqn.TRAIN    \n",
    "    return rand(1:dqn.ACTION_SIZE)\n",
    "  end\n",
    "  act_values = All_Models(dqn.models1,state)\n",
    "  return Flux.argmax(act_values)\n",
    "end"
   ]
  },
  {
   "cell_type": "code",
   "execution_count": 16,
   "metadata": {},
   "outputs": [
    {
     "data": {
      "text/plain": [
       "update_ϵ! (generic function with 1 method)"
      ]
     },
     "execution_count": 16,
     "metadata": {},
     "output_type": "execute_result"
    }
   ],
   "source": [
    "#OK\n",
    "function update_ϵ!(dqn::DQN)\n",
    "    x = dqn.ϵ*dqn.ϵ_DECAY\n",
    "    if x < dqn.ϵ_MIN && dqn.CHANGE\n",
    "        dqn.ϵ=dqn.ϵ_MIN\n",
    "        dqn.CHANGE=false \n",
    "    elseif dqn.CHANGE\n",
    "        dqn.ϵ = x \n",
    "    end\n",
    "end\n"
   ]
  },
  {
   "cell_type": "code",
   "execution_count": 17,
   "metadata": {},
   "outputs": [
    {
     "data": {
      "text/plain": [
       "act (generic function with 1 method)"
      ]
     },
     "execution_count": 17,
     "metadata": {},
     "output_type": "execute_result"
    }
   ],
   "source": [
    "#OK\n",
    "function act(action::Int64, env)\n",
    "    env(action)\n",
    "    obs=observe(env)\n",
    "    get_state(obs), get_reward(obs), get_terminal(obs)\n",
    "end\n"
   ]
  },
  {
   "cell_type": "code",
   "execution_count": 18,
   "metadata": {},
   "outputs": [
    {
     "data": {
      "text/plain": [
       "remember! (generic function with 1 method)"
      ]
     },
     "execution_count": 18,
     "metadata": {},
     "output_type": "execute_result"
    }
   ],
   "source": [
    "#OK    \n",
    "function remember!(dqn::DQN,state::Array{Float32,1}, action::Int64, reward::Float32, next_state::Array{Float32,1}, done::Bool)\n",
    "  if length(dqn.MEMORY) == dqn.MEM_SIZE\n",
    "    deleteat!(dqn.MEMORY, 1)\n",
    "  end\n",
    "  push!(dqn.MEMORY, (state, action, reward, next_state, done))\n",
    "end"
   ]
  },
  {
   "cell_type": "code",
   "execution_count": 29,
   "metadata": {},
   "outputs": [
    {
     "data": {
      "text/plain": [
       "replay! (generic function with 1 method)"
      ]
     },
     "execution_count": 29,
     "metadata": {},
     "output_type": "execute_result"
    }
   ],
   "source": [
    "function replay!(dqn::DQN)\n",
    "    batch_size = min(dqn.BATCH_SIZE, length(dqn.MEMORY))\n",
    "    minibatch = sample(dqn.MEMORY, batch_size, replace = false)\n",
    "    x = []\n",
    "    y = []\n",
    "    for (iter, (state, action, reward, next_state, done)) in enumerate(minibatch)\n",
    "        target = reward\n",
    "        if !done\n",
    "            target += dqn.γ * maximum(All_Models(dqn.models2,next_state))\n",
    "        end\n",
    "        target_f = All_Models(dqn.models1,state)\n",
    "        target_f[action] = target\n",
    "        push!(x,state)\n",
    "        push!(y,action)\n",
    "    end\n",
    "    Flux.train!(dqn.loss,dqn.ps, zip(x,y), dqn.opt)\n",
    "end"
   ]
  },
  {
   "cell_type": "code",
   "execution_count": 20,
   "metadata": {},
   "outputs": [
    {
     "data": {
      "text/plain": [
       "episode! (generic function with 1 method)"
      ]
     },
     "execution_count": 20,
     "metadata": {},
     "output_type": "execute_result"
    }
   ],
   "source": [
    "function episode!(dqn::DQN, env)\n",
    "    obs_ini=observe(env)\n",
    "    current_state=get_state(obs_ini)\n",
    "    total_reward=0\n",
    "    i = 0\n",
    "    while true\n",
    "        current_action=action(dqn,current_state) #changé\n",
    "        current_next_state,current_reward,current_done=act(current_action,env)\n",
    "        total_reward+=current_reward\n",
    "        remember!(dqn, current_state, current_action, current_reward, current_next_state, current_done)\n",
    "        current_state=current_next_state\n",
    "        #replay!(dqn) #changé\n",
    "        update_ϵ!(dqn)\n",
    "        i+=1\n",
    "        copy!(i,dqn) #changé\n",
    "        if current_done  \n",
    "            break   \n",
    "        end   \n",
    "    end\n",
    "    total_reward\n",
    "end"
   ]
  },
  {
   "cell_type": "code",
   "execution_count": 45,
   "metadata": {},
   "outputs": [
    {
     "data": {
      "text/plain": [
       "main_DQN (generic function with 1 method)"
      ]
     },
     "execution_count": 45,
     "metadata": {},
     "output_type": "execute_result"
    }
   ],
   "source": [
    "\n",
    "#Run DQN algorithm\n",
    "\n",
    "function main_DQN(dqn::DQN, env)\n",
    "    e=1\n",
    "    scores = [0]\n",
    "    while sum(scores)<10000\n",
    "      reset!(env)\n",
    "      total_reward = episode!(dqn,env)\n",
    "      push!(scores, total_reward)\n",
    "     # replay!(dqn) #changé\n",
    "      if e % 100 == 0 && e >= 100\n",
    "        last_100_mean = mean(scores[end-99:end])\n",
    "        println(\"$e Last 100 episodes mean score: $last_100_mean\")\n",
    "        if last_100_mean > 195 \n",
    "          println(\"\\nProblem solved!\")\n",
    "          #break\n",
    "        end\n",
    "      end\n",
    "      e += 1\n",
    "    end\n",
    "    mean(scores)\n",
    "end"
   ]
  },
  {
   "cell_type": "code",
   "execution_count": null,
   "metadata": {},
   "outputs": [],
   "source": []
  }
 ],
 "metadata": {
  "kernelspec": {
   "display_name": "Julia 1.3.1",
   "language": "julia",
   "name": "julia-1.3"
  },
  "language_info": {
   "file_extension": ".jl",
   "mimetype": "application/julia",
   "name": "julia",
   "version": "1.3.1"
  }
 },
 "nbformat": 4,
 "nbformat_minor": 2
}
